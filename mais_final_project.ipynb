{
  "nbformat": 4,
  "nbformat_minor": 0,
  "metadata": {
    "colab": {
      "name": "mais_final_project.ipynb",
      "provenance": [],
      "collapsed_sections": [],
      "machine_shape": "hm",
      "authorship_tag": "ABX9TyMDWjShSQOunkQklB/Zc6K6",
      "include_colab_link": true
    },
    "kernelspec": {
      "name": "python3",
      "display_name": "Python 3"
    }
  },
  "cells": [
    {
      "cell_type": "markdown",
      "metadata": {
        "id": "view-in-github",
        "colab_type": "text"
      },
      "source": [
        "<a href=\"https://colab.research.google.com/github/nredick/mais202/blob/master/mais_final_project.ipynb\" target=\"_parent\"><img src=\"https://colab.research.google.com/assets/colab-badge.svg\" alt=\"Open In Colab\"/></a>"
      ]
    },
    {
      "cell_type": "markdown",
      "metadata": {
        "id": "zqGYUo2RmDFe"
      },
      "source": [
        "Load dataset from kaggle and unzip the data.\n",
        "> Upload ~/.kaggle/kaggle.json file before running\n",
        "\n"
      ]
    },
    {
      "cell_type": "code",
      "metadata": {
        "id": "EACcsNUEjQ1s"
      },
      "source": [
        "!mkdir ~/.kaggle\n",
        "!mv kaggle.json ~/.kaggle/\n",
        "!chmod 600 /root/.kaggle/kaggle.json"
      ],
      "execution_count": null,
      "outputs": []
    },
    {
      "cell_type": "code",
      "metadata": {
        "id": "8dNc0H3UlNUg"
      },
      "source": [
        "!kaggle datasets download -d nathalieredick/rocks-and-fossils\n",
        "!unzip rocks-and-fossils.zip"
      ],
      "execution_count": null,
      "outputs": []
    },
    {
      "cell_type": "code",
      "metadata": {
        "id": "PQzVuZFqleUS"
      },
      "source": [
        "import os\n",
        "import numpy as np\n",
        "import matplotlib.pyplot as plt\n",
        "import matplotlib.image as mpimg\n",
        "import cv2\n",
        "import PIL\n",
        "import glob\n",
        "import re\n",
        "import math\n",
        "from PIL import Image"
      ],
      "execution_count": null,
      "outputs": []
    },
    {
      "cell_type": "code",
      "metadata": {
        "id": "iFj0ErBFliCv"
      },
      "source": [
        "dataset_path = '/content/datasets3 copy'\n",
        "classes_path = '/content/datasets3 copy/classes.csv'"
      ],
      "execution_count": null,
      "outputs": []
    },
    {
      "cell_type": "markdown",
      "metadata": {
        "id": "5ftl-6G6mZfO"
      },
      "source": [
        "Load images in color and display some sample images. "
      ]
    },
    {
      "cell_type": "code",
      "metadata": {
        "id": "586aDcl-l9YI"
      },
      "source": [
        "# read in images\n",
        "image_paths = list(glob.glob(f'{dataset_path}/X_train/*.jpeg'))\n",
        "for i in image_paths:\n",
        "  im = Image.open(i)\n",
        "  resized = im.resize((32, 32), Image.ANTIALIAS) \n",
        "  resized.save(i, 'JPEG', quality=300)\n",
        "X_train = np.stack([cv2.imread(str(x), cv2.IMREAD_COLOR)\n",
        "                   for x in image_paths])\n",
        "\n",
        "image_paths = list(glob.glob(f'{dataset_path}/X_test/*.jpeg'))\n",
        "for i in image_paths:\n",
        "  im = Image.open(i)\n",
        "  resized = im.resize((32, 32), Image.ANTIALIAS) \n",
        "  resized.save(i, 'JPEG', quality=300)\n",
        "X_test = np.stack([cv2.imread(str(x), cv2.IMREAD_COLOR) \n",
        "                   for x in image_paths])"
      ],
      "execution_count": null,
      "outputs": []
    },
    {
      "cell_type": "code",
      "metadata": {
        "id": "bQsXReFhCHq0",
        "colab": {
          "base_uri": "https://localhost:8080/",
          "height": 262
        },
        "outputId": "ce49a2ad-b735-4ba4-99f2-ce13e9b2930e"
      },
      "source": [
        "# display samples \n",
        "img_size = X_train[0].shape\n",
        "for i in range(5):\n",
        "  print(X_train[i].shape)\n",
        "  display(PIL.Image.fromarray(X_train[i]))"
      ],
      "execution_count": null,
      "outputs": [
        {
          "output_type": "stream",
          "text": [
            "(32, 32, 3)\n"
          ],
          "name": "stdout"
        },
        {
          "output_type": "display_data",
          "data": {
            "image/png": "[encoded data removed]",
            "text/plain": [
              "<PIL.Image.Image image mode=RGB size=32x32 at 0x7F1D8DD52860>"
            ]
          },
          "metadata": {
            "tags": []
          }
        },
        {
          "output_type": "stream",
          "text": [
            "(32, 32, 3)\n"
          ],
          "name": "stdout"
        },
        {
          "output_type": "display_data",
          "data": {
            "image/png": "[encoded data removed]",
            "text/plain": [
              "<PIL.Image.Image image mode=RGB size=32x32 at 0x7F1D8DD52390>"
            ]
          },
          "metadata": {
            "tags": []
          }
        },
        {
          "output_type": "stream",
          "text": [
            "(32, 32, 3)\n"
          ],
          "name": "stdout"
        },
        {
          "output_type": "display_data",
          "data": {
            "image/png": "[encoded data removed]",
            "text/plain": [
              "<PIL.Image.Image image mode=RGB size=32x32 at 0x7F1D8DD525F8>"
            ]
          },
          "metadata": {
            "tags": []
          }
        },
        {
          "output_type": "stream",
          "text": [
            "(32, 32, 3)\n"
          ],
          "name": "stdout"
        },
        {
          "output_type": "display_data",
          "data": {
            "image/png": "[encoded data removed]",
            "text/plain": [
              "<PIL.Image.Image image mode=RGB size=32x32 at 0x7F1D8DD525C0>"
            ]
          },
          "metadata": {
            "tags": []
          }
        },
        {
          "output_type": "stream",
          "text": [
            "(32, 32, 3)\n"
          ],
          "name": "stdout"
        },
        {
          "output_type": "display_data",
          "data": {
            "image/png": "[encoded data removed]",
            "text/plain": [
              "<PIL.Image.Image image mode=RGB size=32x32 at 0x7F1D8DD527F0>"
            ]
          },
          "metadata": {
            "tags": []
          }
        }
      ]
    },
    {
      "cell_type": "markdown",
      "metadata": {
        "id": "AGbWv8OMo0i2"
      },
      "source": [
        "Remove unwanted noise using Gaussian blur."
      ]
    },
    {
      "cell_type": "code",
      "metadata": {
        "id": "AFOOgdaQnvMP"
      },
      "source": [
        "def remove_noise(dataset):\n",
        "  no_noise = []\n",
        "  for img in dataset:\n",
        "      blur = cv2.GaussianBlur(img, (5, 5), 0)\n",
        "      no_noise.append(blur)\n",
        "  return no_noise"
      ],
      "execution_count": null,
      "outputs": []
    },
    {
      "cell_type": "code",
      "metadata": {
        "id": "7XJYn5dKBzd2"
      },
      "source": [
        "X_train_og = X_train\n",
        "X_train = remove_noise(X_train)\n",
        "X_test_og = X_test\n",
        "X_test = remove_noise(X_test)"
      ],
      "execution_count": null,
      "outputs": []
    },
    {
      "cell_type": "code",
      "metadata": {
        "id": "vMlwV65eomrs",
        "colab": {
          "base_uri": "https://localhost:8080/",
          "height": 115
        },
        "outputId": "aac50642-6fe2-422f-c4c7-46fdc2d3c74c"
      },
      "source": [
        "display('Original', PIL.Image.fromarray(X_train_og[0]), 'Blurred', PIL.Image.fromarray(X_train[0]))"
      ],
      "execution_count": null,
      "outputs": [
        {
          "output_type": "display_data",
          "data": {
            "text/plain": [
              "'Original'"
            ]
          },
          "metadata": {
            "tags": []
          }
        },
        {
          "output_type": "display_data",
          "data": {
            "image/png": "[encoded data removed]",
            "text/plain": [
              "<PIL.Image.Image image mode=RGB size=32x32 at 0x7F1D840AEDD8>"
            ]
          },
          "metadata": {
            "tags": []
          }
        },
        {
          "output_type": "display_data",
          "data": {
            "text/plain": [
              "'Blurred'"
            ]
          },
          "metadata": {
            "tags": []
          }
        },
        {
          "output_type": "display_data",
          "data": {
            "image/png": "[encoded data removed]",
            "text/plain": [
              "<PIL.Image.Image image mode=RGB size=32x32 at 0x7F1D840AEE48>"
            ]
          },
          "metadata": {
            "tags": []
          }
        }
      ]
    },
    {
      "cell_type": "code",
      "metadata": {
        "id": "be5e8seuIuVt",
        "colab": {
          "base_uri": "https://localhost:8080/",
          "height": 51
        },
        "outputId": "fef59bc4-ffa0-45e7-ee6e-358f4478bc92"
      },
      "source": [
        "#get the number of classes \n",
        "classes = [re.findall('^[a-z]+', row)[0] for row in open(classes_path, 'r')]\n",
        "num_classes = sum(1 for c in classes)\n",
        "print('Classes: ', classes, '\\n', 'Number of classes: ', num_classes)"
      ],
      "execution_count": null,
      "outputs": [
        {
          "output_type": "stream",
          "text": [
            "Classes:  ['fossil', 'gemstone', 'mineral', 'rock'] \n",
            " Number of classes:  4\n"
          ],
          "name": "stdout"
        }
      ]
    },
    {
      "cell_type": "markdown",
      "metadata": {
        "id": "BtDqwCKLMeWj"
      },
      "source": [
        "Functions to get labels of data from image file name and convert them to integers"
      ]
    },
    {
      "cell_type": "code",
      "metadata": {
        "id": "XDphCProuiPd",
        "colab": {
          "base_uri": "https://localhost:8080/",
          "height": 71
        },
        "outputId": "f6c6361f-c46e-4262-ad9e-fcd05506f6a6"
      },
      "source": [
        "def get_labels(X):\n",
        "  y = []\n",
        "  for item in os.listdir(f'{dataset_path}/{X}/'):\n",
        "    name = re.findall('^[a-z]+', item)\n",
        "    y.append(*name)\n",
        "  return y\n",
        "\n",
        "y_train = get_labels('X_train')\n",
        "y_test = get_labels('X_test')\n",
        "print('y_train: ', y_train, '\\ny_test: ', y_test)"
      ],
      "execution_count": null,
      "outputs": [
        {
          "output_type": "stream",
          "text": [
            "y_train:  ['rock', 'fossil', 'mineral', 'gemstone', 'fossil', 'gemstone', 'rock', 'mineral', 'rock', 'fossil', 'mineral', 'rock', 'fossil', 'gemstone', 'rock', 'rock', 'rock', 'fossil', 'fossil', 'fossil', 'gemstone', 'rock', 'rock', 'gemstone', 'mineral', 'gemstone', 'gemstone', 'rock', 'rock', 'fossil', 'mineral', 'fossil', 'fossil', 'rock', 'mineral', 'mineral', 'fossil', 'rock', 'rock', 'gemstone', 'mineral', 'rock', 'gemstone', 'mineral', 'rock', 'rock', 'rock', 'mineral', 'gemstone', 'fossil', 'fossil', 'fossil', 'gemstone', 'mineral', 'mineral', 'gemstone', 'rock', 'mineral', 'rock', 'rock', 'mineral', 'gemstone', 'fossil', 'rock', 'fossil', 'gemstone', 'rock', 'rock', 'gemstone', 'mineral', 'rock', 'mineral', 'mineral', 'rock', 'mineral', 'fossil', 'fossil', 'rock', 'mineral', 'fossil', 'gemstone', 'gemstone', 'mineral', 'fossil', 'rock', 'gemstone', 'mineral', 'fossil', 'mineral', 'gemstone', 'mineral', 'fossil', 'fossil', 'mineral', 'rock', 'fossil', 'fossil', 'mineral', 'mineral', 'rock', 'mineral', 'gemstone', 'mineral', 'rock', 'fossil', 'rock', 'mineral', 'rock', 'fossil', 'rock', 'gemstone', 'fossil', 'mineral', 'gemstone', 'fossil', 'rock', 'gemstone', 'rock', 'gemstone', 'rock', 'fossil', 'gemstone', 'fossil', 'mineral', 'fossil', 'fossil', 'mineral', 'rock', 'gemstone', 'mineral', 'fossil', 'mineral', 'rock', 'mineral', 'fossil', 'gemstone', 'fossil', 'mineral', 'rock', 'rock', 'mineral', 'fossil', 'fossil', 'rock', 'gemstone', 'rock', 'rock', 'mineral', 'gemstone', 'gemstone', 'rock', 'fossil', 'mineral', 'rock', 'gemstone', 'mineral', 'fossil', 'fossil', 'rock', 'mineral', 'mineral', 'mineral', 'rock', 'gemstone', 'mineral', 'rock', 'rock', 'fossil', 'mineral', 'rock', 'gemstone', 'fossil', 'gemstone', 'fossil', 'gemstone', 'mineral', 'fossil', 'mineral', 'rock', 'fossil', 'mineral', 'mineral', 'rock', 'gemstone', 'mineral', 'mineral', 'rock', 'gemstone', 'fossil', 'rock', 'gemstone', 'rock', 'fossil', 'mineral', 'rock', 'fossil', 'mineral', 'rock', 'mineral', 'rock', 'gemstone', 'gemstone', 'gemstone', 'rock', 'mineral', 'fossil', 'rock', 'fossil', 'fossil', 'fossil', 'gemstone', 'mineral', 'gemstone', 'rock', 'rock', 'gemstone', 'gemstone', 'rock', 'gemstone', 'mineral', 'fossil', 'fossil', 'mineral', 'mineral', 'gemstone', 'fossil', 'mineral', 'rock', 'gemstone', 'gemstone', 'rock', 'gemstone', 'mineral', 'fossil', 'rock', 'rock', 'rock', 'fossil', 'mineral', 'rock', 'mineral', 'mineral', 'mineral', 'fossil', 'gemstone', 'mineral', 'fossil', 'gemstone', 'mineral', 'gemstone', 'mineral', 'fossil', 'gemstone', 'fossil', 'gemstone', 'rock', 'mineral', 'rock', 'mineral', 'fossil', 'gemstone', 'fossil', 'gemstone', 'rock', 'rock', 'mineral', 'mineral', 'mineral', 'mineral', 'mineral', 'gemstone', 'rock', 'mineral', 'rock', 'rock', 'rock', 'mineral', 'rock', 'rock', 'gemstone', 'rock', 'rock', 'rock', 'gemstone', 'mineral', 'mineral', 'mineral', 'gemstone', 'rock', 'rock', 'rock', 'gemstone', 'mineral', 'rock', 'fossil', 'gemstone', 'fossil', 'fossil', 'gemstone', 'fossil', 'rock', 'fossil', 'rock', 'rock', 'rock', 'mineral', 'gemstone', 'rock', 'gemstone', 'mineral', 'mineral', 'rock', 'fossil', 'mineral', 'fossil', 'fossil', 'gemstone', 'gemstone', 'rock', 'rock', 'rock', 'mineral', 'rock', 'gemstone', 'fossil', 'rock', 'fossil', 'gemstone', 'fossil', 'rock', 'fossil', 'fossil', 'mineral', 'rock', 'mineral', 'mineral', 'fossil', 'gemstone', 'mineral', 'mineral', 'rock', 'rock', 'fossil', 'fossil', 'mineral', 'mineral', 'gemstone', 'rock', 'gemstone', 'gemstone', 'mineral', 'rock', 'mineral', 'gemstone', 'mineral', 'rock', 'gemstone', 'rock', 'rock', 'gemstone', 'fossil', 'rock', 'fossil', 'mineral', 'mineral', 'mineral', 'rock', 'gemstone', 'fossil', 'mineral', 'rock', 'mineral', 'mineral', 'mineral', 'fossil', 'mineral', 'gemstone', 'gemstone', 'mineral', 'gemstone', 'gemstone', 'mineral', 'gemstone', 'rock', 'fossil', 'rock', 'rock', 'gemstone', 'mineral', 'gemstone', 'gemstone', 'gemstone', 'rock', 'gemstone', 'mineral', 'rock', 'fossil', 'gemstone', 'gemstone', 'mineral', 'gemstone', 'fossil', 'mineral', 'fossil', 'rock', 'rock', 'rock', 'fossil', 'gemstone', 'gemstone', 'fossil', 'fossil', 'fossil', 'fossil', 'mineral', 'rock', 'gemstone', 'mineral', 'mineral', 'fossil', 'gemstone', 'fossil', 'fossil', 'fossil', 'fossil', 'rock', 'mineral', 'mineral', 'rock', 'gemstone', 'rock', 'fossil', 'gemstone', 'gemstone', 'fossil', 'gemstone', 'fossil', 'gemstone', 'mineral', 'fossil', 'fossil', 'rock', 'mineral', 'mineral', 'mineral', 'mineral', 'gemstone', 'gemstone', 'mineral', 'mineral', 'fossil', 'fossil', 'gemstone', 'mineral', 'rock', 'gemstone', 'rock', 'rock', 'gemstone', 'mineral', 'mineral', 'fossil', 'gemstone', 'gemstone', 'fossil', 'rock', 'gemstone', 'gemstone', 'rock', 'mineral', 'mineral', 'mineral', 'gemstone', 'rock', 'gemstone', 'rock', 'fossil', 'rock', 'mineral', 'rock', 'mineral', 'gemstone', 'mineral', 'rock', 'fossil', 'gemstone', 'gemstone', 'gemstone', 'mineral', 'fossil', 'gemstone', 'gemstone', 'fossil', 'gemstone', 'gemstone', 'mineral', 'gemstone', 'gemstone', 'rock', 'mineral', 'rock', 'mineral', 'gemstone', 'mineral', 'rock', 'fossil', 'mineral', 'mineral', 'gemstone', 'mineral', 'rock', 'mineral', 'gemstone', 'fossil', 'mineral', 'gemstone', 'mineral', 'rock', 'gemstone', 'rock', 'gemstone', 'gemstone', 'mineral', 'gemstone', 'mineral', 'gemstone', 'rock', 'gemstone', 'gemstone', 'gemstone', 'rock', 'mineral', 'mineral', 'rock', 'gemstone', 'mineral', 'mineral', 'fossil', 'fossil', 'rock', 'rock', 'fossil', 'fossil', 'rock', 'rock', 'mineral', 'rock', 'mineral', 'rock', 'fossil', 'mineral', 'rock', 'mineral', 'gemstone', 'rock', 'mineral', 'fossil', 'fossil', 'gemstone', 'rock', 'gemstone', 'gemstone', 'rock', 'rock', 'rock', 'rock', 'fossil', 'gemstone', 'gemstone', 'fossil', 'rock', 'rock', 'rock', 'rock', 'mineral', 'rock', 'rock', 'rock', 'fossil', 'gemstone', 'gemstone', 'gemstone', 'fossil', 'mineral', 'fossil', 'gemstone', 'rock', 'fossil', 'fossil', 'fossil', 'fossil', 'fossil', 'rock', 'fossil', 'mineral', 'fossil', 'fossil', 'rock', 'gemstone', 'gemstone', 'fossil', 'gemstone', 'fossil', 'fossil', 'gemstone', 'mineral', 'fossil', 'fossil', 'gemstone', 'rock', 'mineral', 'fossil', 'gemstone', 'fossil', 'rock', 'rock', 'gemstone', 'fossil', 'rock', 'rock', 'rock', 'mineral', 'fossil', 'gemstone', 'gemstone', 'gemstone', 'gemstone', 'rock', 'fossil', 'gemstone', 'rock', 'fossil', 'mineral', 'mineral', 'mineral', 'fossil', 'fossil', 'mineral', 'fossil', 'gemstone', 'fossil', 'gemstone', 'gemstone', 'gemstone', 'rock', 'mineral', 'fossil', 'mineral', 'rock', 'gemstone', 'fossil', 'mineral', 'rock', 'rock', 'rock', 'fossil', 'gemstone', 'rock', 'fossil', 'fossil', 'mineral', 'mineral', 'fossil', 'rock', 'rock', 'gemstone', 'fossil', 'mineral', 'rock', 'rock', 'gemstone', 'mineral', 'rock', 'rock', 'gemstone', 'fossil', 'rock', 'rock', 'gemstone', 'fossil', 'fossil', 'rock', 'fossil', 'fossil', 'mineral', 'mineral', 'rock', 'gemstone', 'mineral', 'rock', 'mineral', 'mineral', 'fossil', 'fossil', 'gemstone', 'fossil', 'mineral', 'mineral', 'gemstone', 'rock', 'rock', 'gemstone', 'rock', 'gemstone', 'gemstone', 'gemstone', 'fossil', 'gemstone', 'gemstone', 'gemstone', 'rock', 'mineral', 'gemstone', 'fossil', 'rock', 'gemstone', 'rock', 'rock', 'mineral', 'mineral', 'gemstone', 'fossil', 'mineral', 'gemstone', 'mineral', 'mineral', 'gemstone', 'fossil', 'rock', 'rock', 'rock', 'gemstone', 'rock', 'gemstone', 'mineral', 'fossil', 'gemstone', 'fossil', 'rock', 'gemstone', 'mineral', 'gemstone', 'gemstone', 'gemstone', 'gemstone', 'mineral', 'rock', 'gemstone', 'gemstone', 'mineral', 'rock', 'mineral', 'fossil', 'mineral', 'mineral', 'gemstone', 'gemstone', 'mineral', 'gemstone', 'rock', 'rock', 'mineral', 'fossil', 'fossil', 'rock', 'fossil', 'gemstone', 'rock', 'rock', 'gemstone', 'fossil', 'rock', 'gemstone', 'fossil', 'rock', 'fossil', 'fossil', 'gemstone', 'gemstone', 'mineral', 'mineral', 'gemstone', 'rock', 'rock', 'rock', 'fossil', 'mineral', 'mineral', 'gemstone', 'gemstone', 'gemstone', 'fossil', 'rock', 'mineral', 'rock', 'gemstone', 'mineral', 'mineral', 'fossil', 'rock', 'rock', 'mineral', 'rock', 'mineral', 'fossil', 'rock', 'rock', 'gemstone', 'rock', 'gemstone', 'rock', 'mineral', 'gemstone', 'fossil', 'mineral', 'mineral', 'mineral', 'gemstone', 'gemstone', 'rock', 'gemstone', 'gemstone', 'gemstone', 'mineral', 'gemstone', 'mineral', 'mineral', 'mineral', 'rock', 'fossil', 'fossil', 'fossil', 'rock', 'rock', 'rock', 'fossil', 'mineral', 'mineral', 'gemstone', 'rock', 'rock', 'fossil', 'mineral', 'fossil', 'fossil', 'fossil', 'mineral', 'fossil', 'fossil', 'rock', 'mineral', 'gemstone', 'rock', 'fossil', 'mineral', 'fossil', 'fossil', 'fossil', 'gemstone', 'rock', 'rock', 'fossil', 'mineral', 'mineral', 'gemstone', 'rock', 'fossil', 'mineral', 'fossil', 'mineral', 'mineral', 'fossil', 'mineral', 'gemstone', 'gemstone', 'gemstone', 'rock', 'mineral', 'rock', 'rock', 'mineral', 'gemstone', 'mineral', 'rock', 'fossil', 'gemstone', 'gemstone', 'fossil', 'gemstone', 'fossil', 'gemstone', 'gemstone', 'gemstone', 'mineral', 'rock', 'gemstone', 'mineral', 'gemstone', 'rock', 'rock', 'fossil', 'rock', 'gemstone', 'rock', 'fossil', 'rock', 'rock', 'fossil', 'rock', 'rock', 'rock', 'gemstone', 'gemstone', 'gemstone', 'mineral', 'rock', 'fossil', 'rock', 'gemstone', 'fossil', 'gemstone', 'rock', 'mineral', 'gemstone', 'gemstone', 'mineral', 'rock', 'fossil', 'gemstone', 'mineral', 'gemstone', 'gemstone', 'fossil', 'mineral', 'mineral', 'rock', 'mineral', 'rock', 'gemstone', 'mineral', 'rock', 'gemstone', 'fossil', 'rock', 'rock', 'mineral', 'mineral', 'gemstone', 'gemstone', 'mineral', 'gemstone', 'mineral', 'mineral', 'gemstone', 'rock', 'mineral', 'rock', 'mineral', 'mineral', 'gemstone', 'gemstone', 'mineral', 'mineral', 'fossil', 'gemstone', 'fossil', 'mineral', 'fossil', 'rock', 'rock', 'mineral', 'rock', 'rock', 'fossil', 'mineral', 'fossil', 'gemstone', 'mineral', 'fossil', 'mineral', 'rock', 'rock', 'rock', 'fossil', 'gemstone', 'gemstone', 'fossil', 'mineral', 'gemstone', 'mineral', 'fossil', 'rock', 'rock', 'mineral', 'mineral', 'fossil', 'mineral', 'gemstone', 'rock', 'rock', 'rock', 'rock', 'gemstone', 'rock', 'mineral', 'gemstone', 'gemstone', 'mineral', 'fossil', 'mineral', 'mineral', 'gemstone', 'gemstone', 'rock', 'mineral', 'rock', 'fossil', 'fossil', 'fossil', 'rock', 'fossil', 'mineral', 'rock', 'mineral', 'rock', 'gemstone', 'fossil', 'mineral', 'rock', 'mineral', 'mineral', 'rock', 'rock', 'fossil', 'fossil', 'fossil', 'mineral', 'mineral', 'mineral', 'fossil', 'mineral', 'fossil', 'fossil', 'fossil', 'mineral', 'fossil', 'rock', 'fossil', 'mineral', 'gemstone', 'gemstone', 'gemstone', 'gemstone', 'fossil', 'mineral', 'rock', 'gemstone', 'rock', 'rock', 'gemstone', 'rock', 'rock', 'gemstone', 'fossil', 'mineral', 'gemstone', 'mineral', 'rock', 'gemstone', 'rock', 'rock', 'fossil', 'gemstone', 'gemstone', 'gemstone', 'rock', 'mineral', 'gemstone', 'mineral', 'mineral', 'fossil', 'mineral', 'gemstone', 'gemstone', 'rock', 'rock', 'rock', 'rock', 'mineral', 'rock', 'rock', 'rock', 'fossil', 'rock', 'gemstone', 'gemstone', 'gemstone', 'mineral', 'rock', 'gemstone', 'fossil', 'gemstone', 'gemstone', 'mineral', 'mineral', 'mineral', 'fossil', 'mineral', 'gemstone', 'mineral', 'mineral', 'fossil', 'rock', 'mineral', 'fossil', 'rock', 'mineral', 'rock', 'rock', 'fossil', 'gemstone', 'mineral', 'fossil', 'mineral', 'fossil', 'fossil', 'fossil', 'mineral', 'gemstone', 'mineral', 'rock', 'gemstone', 'fossil', 'mineral', 'mineral', 'rock', 'fossil', 'fossil', 'fossil', 'fossil', 'rock', 'fossil', 'rock', 'rock', 'fossil', 'mineral', 'mineral', 'mineral', 'mineral', 'mineral', 'rock', 'rock', 'mineral', 'gemstone', 'rock', 'mineral', 'mineral', 'gemstone', 'mineral', 'fossil', 'rock', 'rock', 'mineral', 'rock', 'fossil', 'mineral', 'mineral', 'fossil', 'rock', 'rock', 'fossil', 'gemstone', 'fossil', 'gemstone', 'mineral', 'gemstone', 'gemstone', 'gemstone', 'mineral', 'mineral', 'mineral', 'rock', 'fossil', 'fossil', 'fossil', 'mineral', 'mineral', 'fossil', 'fossil', 'rock', 'gemstone', 'mineral', 'mineral', 'fossil', 'mineral', 'fossil', 'gemstone', 'gemstone', 'fossil', 'rock', 'rock', 'mineral', 'mineral', 'gemstone', 'rock', 'gemstone', 'fossil', 'rock', 'gemstone', 'rock', 'rock', 'fossil', 'rock', 'gemstone', 'gemstone', 'fossil', 'gemstone', 'mineral', 'fossil', 'gemstone', 'mineral', 'gemstone', 'fossil', 'rock', 'gemstone', 'fossil', 'gemstone', 'fossil', 'fossil', 'fossil', 'gemstone', 'mineral', 'rock', 'mineral', 'rock', 'mineral', 'mineral', 'rock', 'gemstone', 'rock', 'gemstone', 'gemstone', 'mineral', 'gemstone', 'gemstone', 'fossil', 'mineral', 'gemstone', 'fossil', 'fossil', 'rock', 'rock', 'gemstone', 'mineral', 'rock', 'rock', 'gemstone', 'fossil', 'fossil', 'fossil', 'fossil', 'rock', 'rock', 'gemstone', 'mineral', 'mineral', 'fossil', 'fossil', 'gemstone', 'rock', 'rock', 'fossil', 'gemstone', 'fossil', 'mineral', 'fossil', 'fossil', 'rock', 'gemstone', 'gemstone', 'gemstone', 'fossil', 'rock', 'mineral', 'fossil', 'rock', 'mineral', 'mineral', 'mineral', 'mineral', 'gemstone', 'gemstone', 'mineral', 'rock', 'fossil', 'fossil', 'rock', 'mineral', 'mineral', 'mineral', 'gemstone', 'mineral', 'rock', 'rock', 'gemstone', 'mineral', 'mineral', 'gemstone', 'rock', 'gemstone', 'mineral', 'rock', 'gemstone', 'mineral', 'fossil', 'mineral', 'mineral', 'mineral', 'mineral', 'mineral', 'gemstone', 'fossil', 'gemstone', 'gemstone', 'fossil', 'mineral', 'mineral', 'mineral', 'fossil', 'mineral', 'gemstone', 'gemstone', 'mineral', 'mineral', 'rock', 'gemstone', 'gemstone', 'mineral', 'fossil', 'gemstone', 'gemstone', 'rock', 'rock', 'gemstone', 'fossil', 'rock', 'gemstone', 'gemstone', 'rock', 'gemstone', 'gemstone', 'gemstone', 'rock', 'mineral', 'gemstone', 'gemstone', 'rock', 'mineral', 'gemstone', 'rock', 'mineral', 'gemstone', 'rock', 'fossil', 'gemstone', 'fossil', 'mineral', 'mineral', 'mineral', 'fossil', 'mineral', 'gemstone', 'gemstone', 'fossil', 'mineral', 'mineral', 'fossil', 'rock', 'rock', 'gemstone', 'rock', 'rock', 'gemstone', 'gemstone', 'gemstone', 'gemstone', 'gemstone', 'mineral', 'rock', 'rock', 'gemstone', 'mineral', 'rock', 'mineral', 'rock', 'gemstone', 'rock', 'rock', 'mineral', 'fossil', 'rock', 'mineral', 'gemstone', 'gemstone', 'gemstone', 'mineral', 'fossil', 'mineral', 'mineral', 'mineral', 'mineral', 'rock', 'gemstone', 'rock', 'mineral', 'fossil', 'mineral', 'gemstone', 'fossil', 'fossil', 'mineral', 'gemstone', 'gemstone', 'rock', 'mineral', 'rock', 'mineral', 'rock', 'mineral', 'rock', 'mineral', 'gemstone', 'mineral', 'fossil', 'gemstone', 'gemstone', 'rock', 'mineral', 'rock', 'mineral', 'rock', 'rock', 'fossil', 'rock', 'mineral', 'rock', 'gemstone', 'gemstone', 'mineral', 'gemstone', 'gemstone', 'rock', 'mineral', 'fossil', 'mineral', 'mineral', 'mineral', 'fossil', 'rock', 'rock', 'rock', 'gemstone', 'gemstone', 'fossil', 'fossil', 'mineral', 'rock', 'gemstone', 'rock', 'rock', 'mineral', 'gemstone', 'fossil', 'rock', 'rock', 'gemstone', 'rock', 'fossil', 'mineral', 'mineral', 'rock', 'fossil', 'rock', 'rock', 'mineral', 'rock', 'mineral', 'rock', 'fossil', 'rock', 'mineral', 'rock', 'gemstone', 'gemstone', 'gemstone', 'rock', 'mineral', 'rock', 'gemstone', 'mineral', 'fossil', 'rock', 'fossil', 'rock', 'mineral', 'gemstone', 'fossil', 'mineral', 'fossil', 'rock', 'rock', 'mineral', 'fossil', 'mineral', 'gemstone', 'mineral', 'mineral', 'mineral', 'gemstone', 'fossil', 'mineral', 'gemstone', 'gemstone', 'gemstone', 'mineral', 'fossil', 'gemstone', 'gemstone', 'fossil', 'rock', 'gemstone', 'gemstone', 'mineral', 'mineral', 'gemstone', 'rock', 'gemstone', 'mineral', 'fossil', 'gemstone', 'gemstone', 'fossil', 'gemstone', 'mineral', 'gemstone', 'mineral', 'gemstone', 'gemstone', 'fossil', 'rock', 'mineral', 'mineral', 'gemstone', 'mineral', 'fossil', 'mineral', 'gemstone', 'gemstone', 'rock', 'rock', 'gemstone', 'rock', 'gemstone', 'rock', 'gemstone', 'gemstone', 'rock', 'fossil', 'gemstone', 'rock', 'mineral', 'mineral', 'fossil', 'gemstone', 'fossil', 'rock', 'rock', 'mineral', 'rock', 'rock', 'rock', 'rock', 'rock', 'gemstone', 'gemstone', 'mineral', 'fossil', 'rock', 'fossil', 'fossil', 'rock', 'gemstone', 'gemstone', 'mineral', 'mineral', 'gemstone', 'rock', 'mineral', 'gemstone', 'fossil', 'gemstone', 'fossil', 'gemstone', 'fossil', 'fossil', 'fossil', 'rock', 'mineral', 'gemstone', 'gemstone', 'gemstone', 'gemstone', 'rock', 'rock', 'rock', 'rock', 'gemstone', 'mineral', 'fossil', 'rock', 'gemstone', 'fossil', 'rock', 'gemstone', 'gemstone', 'rock', 'gemstone', 'gemstone', 'fossil', 'mineral', 'fossil', 'rock', 'rock', 'fossil', 'fossil', 'rock', 'fossil', 'fossil', 'rock', 'rock', 'gemstone', 'rock', 'rock', 'rock', 'fossil', 'fossil', 'gemstone', 'rock', 'mineral', 'gemstone', 'mineral', 'gemstone', 'mineral', 'gemstone', 'mineral', 'fossil', 'mineral', 'mineral', 'gemstone', 'rock', 'mineral', 'rock', 'rock', 'mineral', 'mineral', 'fossil', 'gemstone', 'gemstone', 'gemstone', 'rock', 'mineral', 'fossil', 'fossil', 'gemstone', 'rock', 'mineral', 'fossil', 'mineral', 'rock', 'fossil', 'fossil', 'rock', 'fossil', 'fossil', 'rock', 'gemstone', 'mineral', 'mineral', 'gemstone', 'gemstone', 'mineral', 'fossil', 'mineral', 'mineral', 'mineral', 'rock', 'mineral', 'fossil', 'rock', 'mineral', 'rock', 'gemstone', 'fossil', 'gemstone', 'rock', 'fossil', 'gemstone', 'mineral', 'fossil', 'gemstone', 'gemstone', 'rock', 'mineral', 'mineral', 'mineral', 'rock', 'fossil', 'gemstone', 'mineral', 'gemstone', 'mineral', 'fossil', 'mineral', 'rock', 'fossil', 'mineral', 'fossil', 'fossil', 'rock', 'mineral', 'rock', 'fossil', 'mineral', 'gemstone', 'gemstone', 'fossil', 'mineral', 'mineral', 'rock', 'mineral', 'gemstone', 'rock', 'rock', 'fossil', 'gemstone', 'fossil', 'gemstone', 'fossil', 'rock', 'rock', 'rock', 'fossil', 'rock', 'fossil', 'fossil', 'fossil', 'rock', 'rock', 'rock', 'gemstone', 'gemstone', 'mineral', 'rock', 'gemstone', 'fossil', 'gemstone', 'fossil', 'mineral', 'rock', 'gemstone', 'rock', 'gemstone', 'mineral', 'fossil', 'rock', 'mineral', 'mineral', 'mineral', 'fossil', 'rock', 'gemstone', 'rock', 'mineral', 'mineral', 'gemstone', 'mineral', 'rock', 'fossil', 'gemstone', 'fossil', 'rock', 'gemstone', 'rock', 'mineral', 'mineral', 'gemstone', 'mineral', 'fossil', 'gemstone', 'rock', 'mineral'] \n",
            "y_test:  ['rock', 'rock', 'rock', 'fossil', 'rock', 'rock', 'gemstone', 'mineral', 'gemstone', 'mineral', 'mineral', 'fossil', 'mineral', 'rock', 'fossil', 'gemstone', 'mineral', 'mineral', 'rock', 'rock', 'mineral', 'fossil', 'mineral', 'gemstone', 'gemstone', 'rock', 'mineral', 'fossil', 'mineral', 'gemstone', 'rock', 'mineral', 'rock', 'mineral', 'gemstone', 'mineral', 'gemstone', 'rock', 'fossil', 'fossil', 'mineral', 'fossil', 'gemstone', 'rock', 'rock', 'gemstone', 'fossil', 'fossil', 'fossil', 'gemstone', 'fossil', 'gemstone', 'rock', 'gemstone', 'gemstone', 'fossil', 'mineral', 'gemstone', 'rock', 'gemstone', 'mineral', 'mineral', 'fossil', 'rock', 'gemstone', 'gemstone', 'gemstone', 'mineral', 'gemstone', 'mineral', 'mineral', 'gemstone', 'gemstone', 'gemstone', 'rock', 'rock', 'mineral', 'gemstone', 'mineral', 'gemstone', 'fossil', 'fossil', 'fossil', 'gemstone', 'rock', 'fossil', 'gemstone', 'gemstone', 'fossil', 'fossil', 'gemstone', 'fossil', 'gemstone', 'fossil', 'rock', 'gemstone', 'gemstone', 'fossil', 'fossil', 'rock', 'rock', 'fossil', 'rock', 'fossil', 'rock', 'gemstone', 'fossil', 'rock', 'mineral', 'rock', 'gemstone', 'mineral', 'rock', 'rock', 'rock', 'mineral', 'fossil', 'rock', 'fossil', 'gemstone', 'fossil', 'mineral', 'rock', 'mineral', 'fossil', 'mineral', 'gemstone', 'gemstone', 'mineral', 'rock', 'fossil', 'fossil', 'gemstone', 'rock', 'mineral', 'fossil', 'gemstone', 'mineral', 'gemstone', 'fossil', 'fossil', 'rock', 'rock', 'fossil', 'fossil', 'mineral', 'fossil', 'mineral', 'fossil', 'mineral', 'fossil', 'mineral', 'gemstone', 'gemstone', 'mineral', 'fossil', 'gemstone', 'mineral', 'fossil', 'rock', 'gemstone', 'rock', 'rock', 'rock', 'fossil', 'fossil', 'rock', 'rock', 'fossil', 'gemstone', 'fossil', 'fossil', 'mineral', 'rock', 'gemstone', 'gemstone', 'mineral', 'gemstone', 'fossil', 'fossil', 'gemstone', 'fossil', 'rock', 'fossil', 'mineral', 'gemstone', 'fossil', 'fossil', 'mineral', 'rock', 'gemstone', 'mineral', 'mineral', 'fossil', 'gemstone', 'mineral', 'gemstone', 'rock', 'fossil', 'mineral', 'fossil', 'rock', 'rock', 'mineral', 'fossil', 'mineral', 'fossil', 'gemstone', 'rock', 'gemstone', 'rock', 'mineral', 'gemstone', 'gemstone', 'rock', 'gemstone', 'fossil', 'fossil', 'mineral', 'gemstone', 'mineral', 'rock', 'mineral', 'gemstone', 'mineral', 'gemstone', 'gemstone', 'fossil', 'rock', 'gemstone', 'fossil', 'mineral', 'rock', 'fossil', 'rock', 'gemstone', 'fossil', 'gemstone', 'mineral', 'gemstone', 'gemstone', 'rock', 'rock', 'fossil', 'fossil', 'mineral', 'fossil', 'mineral', 'fossil', 'fossil', 'gemstone', 'gemstone', 'fossil', 'mineral', 'mineral', 'mineral', 'gemstone', 'fossil', 'gemstone']\n"
          ],
          "name": "stdout"
        }
      ]
    },
    {
      "cell_type": "code",
      "metadata": {
        "id": "bkgDUa1Zvxc1"
      },
      "source": [
        "def classes_to_nums():\n",
        "  classes = []\n",
        "  names = []\n",
        "  for i, row in enumerate(open(classes_path, 'r')):\n",
        "    name = re.findall('^[a-z]+', row)\n",
        "    if name not in names:\n",
        "      names.append(name)\n",
        "      classes.append([i, *re.findall('^[a-z]+', row)])\n",
        "    else:\n",
        "      print('classes to nums fail')\n",
        "  return classes"
      ],
      "execution_count": null,
      "outputs": []
    },
    {
      "cell_type": "code",
      "metadata": {
        "id": "e-a2dqK0wcn1"
      },
      "source": [
        "def numerical_labels(classes, labels):\n",
        "  result = []\n",
        "  for l in labels:\n",
        "    for c in classes:\n",
        "      if l == c[1]:\n",
        "        result.append(c[0])\n",
        "  return result"
      ],
      "execution_count": null,
      "outputs": []
    },
    {
      "cell_type": "code",
      "metadata": {
        "id": "fnrHJvnjR0HV",
        "colab": {
          "base_uri": "https://localhost:8080/",
          "height": 34
        },
        "outputId": "af3a7f40-339d-4591-c89f-ae4ca69fd77a"
      },
      "source": [
        "# convert image data to numpy arrays \n",
        "X_train = np.array(X_train)\n",
        "X_test = np.array(X_test)\n",
        "\n",
        "# get encoded labels of each set\n",
        "numerical_classes = classes_to_nums()\n",
        "y_train = numerical_labels(numerical_classes, y_train)\n",
        "y_test = numerical_labels(numerical_classes, y_test)\n",
        "print(len(y_train))\n"
      ],
      "execution_count": null,
      "outputs": [
        {
          "output_type": "stream",
          "text": [
            "1801\n"
          ],
          "name": "stdout"
        }
      ]
    },
    {
      "cell_type": "markdown",
      "metadata": {
        "id": "QvUzRIBcPRft"
      },
      "source": [
        "Instantiate, train, and evaluate the CNN."
      ]
    },
    {
      "cell_type": "code",
      "metadata": {
        "id": "G5gX27IcrziL",
        "colab": {
          "base_uri": "https://localhost:8080/",
          "height": 34
        },
        "outputId": "a2b24aab-6cdc-418a-c91c-b2be72949e2b"
      },
      "source": [
        "# imports for the CNN\n",
        "from __future__ import print_function\n",
        "import keras\n",
        "from tensorflow.keras.models import Sequential\n",
        "from tensorflow.keras.layers import Dense, Dropout, Activation, Flatten\n",
        "from tensorflow.keras.utils import to_categorical\n",
        "from tensorflow.keras.layers import Conv2D, MaxPooling2D, BatchNormalization\n",
        "from tensorflow.keras.callbacks import EarlyStopping, ModelCheckpoint\n",
        "from tensorflow.python.keras.layers import Dense\n",
        "from tensorflow.python.keras import Sequential"
      ],
      "execution_count": null,
      "outputs": [
        {
          "output_type": "stream",
          "text": [
            "Using TensorFlow backend.\n"
          ],
          "name": "stderr"
        }
      ]
    },
    {
      "cell_type": "code",
      "metadata": {
        "id": "SRMtjC1pEfb_",
        "colab": {
          "base_uri": "https://localhost:8080/",
          "height": 51
        },
        "outputId": "c704ef9b-7287-4537-bc98-7b8198ad0b5d"
      },
      "source": [
        "# one hot encode data labels for train and test data\n",
        "y_train = to_categorical(y_train)\n",
        "y_test = to_categorical(y_test)\n",
        "print(y_train.shape)\n",
        "print(y_test.shape)"
      ],
      "execution_count": null,
      "outputs": [
        {
          "output_type": "stream",
          "text": [
            "(1801, 4)\n",
            "(259, 4)\n"
          ],
          "name": "stdout"
        }
      ]
    },
    {
      "cell_type": "code",
      "metadata": {
        "id": "JOirFFBc-AF0"
      },
      "source": [
        "# settings for CNN model\n",
        "batch_size = 256\n",
        "epochs = 30\n",
        "save_dir = os.path.join(os.getcwd(), 'saved_models')\n",
        "model_name = 'rocks_and_fossils.h5'"
      ],
      "execution_count": null,
      "outputs": []
    },
    {
      "cell_type": "code",
      "metadata": {
        "id": "_8xtMVW2-e8Y",
        "colab": {
          "base_uri": "https://localhost:8080/",
          "height": 51
        },
        "outputId": "b187dee0-fb03-4201-aa19-27baa7a30196"
      },
      "source": [
        "# print the data, split between train and test sets:\n",
        "X_train = X_train.astype('float32')\n",
        "X_test = X_test.astype('float32')\n",
        "\n",
        "X_train /= 255\n",
        "X_test /= 255\n",
        "\n",
        "num_of_test_samples = X_test.shape[0]\n",
        "\n",
        "print('X_train shape:', X_train.shape, '\\t', X_train.shape[0], 'train samples')\n",
        "print('X_test shape:', X_test.shape,'\\t', X_test.shape[0], 'test samples')"
      ],
      "execution_count": null,
      "outputs": [
        {
          "output_type": "stream",
          "text": [
            "X_train shape: (1801, 32, 32, 3) \t 1801 train samples\n",
            "X_test shape: (259, 32, 32, 3) \t 259 test samples\n"
          ],
          "name": "stdout"
        }
      ]
    },
    {
      "cell_type": "code",
      "metadata": {
        "id": "FDHFl0-bzhC8"
      },
      "source": [
        "model = Sequential()\n",
        "model.add(Conv2D(32, kernel_size=(3, 3),\n",
        "                 activation='relu',\n",
        "                 input_shape=X_train.shape[1:]))\n",
        "\n",
        "model.add(Activation('relu'))\n",
        "model.add(Conv2D(32, (3, 3)))\n",
        "model.add(Activation('relu'))\n",
        "model.add(MaxPooling2D(pool_size=(2, 2)))\n",
        "model.add(Dropout(0.25))\n",
        "\n",
        "model.add(Flatten())\n",
        "model.add(Dense(512))\n",
        "model.add(Activation('relu'))\n",
        "model.add(Dropout(0.5))\n",
        "model.add(Dense(num_classes))\n",
        "model.add(Activation('softmax'))\n"
      ],
      "execution_count": null,
      "outputs": []
    },
    {
      "cell_type": "code",
      "metadata": {
        "id": "ei67fYL8J0C8"
      },
      "source": [
        "callbacks = [EarlyStopping(monitor='val_loss', patience=5),\n",
        "             ModelCheckpoint(filepath='best_model.h5', monitor='val_loss', save_best_only=True)]"
      ],
      "execution_count": null,
      "outputs": []
    },
    {
      "cell_type": "code",
      "metadata": {
        "id": "VBO4OOS82NYp",
        "colab": {
          "base_uri": "https://localhost:8080/",
          "height": 1000
        },
        "outputId": "c1fb1aff-aa28-425c-8b91-749e4ad49ef6"
      },
      "source": [
        "model.compile(loss='categorical_crossentropy',\n",
        "              optimizer='rmsprop',\n",
        "              metrics=['accuracy', 'mse'])\n",
        "\n",
        "model.fit(X_train, y_train, validation_data=(X_test, y_test), epochs=epochs, verbose=1, shuffle=True, callbacks=callbacks)"
      ],
      "execution_count": null,
      "outputs": [
        {
          "output_type": "stream",
          "text": [
            "Epoch 1/30\n",
            "57/57 [==============================] - 4s 68ms/step - loss: 1.2573 - accuracy: 0.4814 - mse: 0.1695 - val_loss: 0.8752 - val_accuracy: 0.6757 - val_mse: 0.1205\n",
            "Epoch 2/30\n",
            "57/57 [==============================] - 4s 63ms/step - loss: 1.0119 - accuracy: 0.5997 - mse: 0.1380 - val_loss: 1.0567 - val_accuracy: 0.5676 - val_mse: 0.1478\n",
            "Epoch 3/30\n",
            "57/57 [==============================] - 4s 63ms/step - loss: 0.9605 - accuracy: 0.6408 - mse: 0.1293 - val_loss: 0.7561 - val_accuracy: 0.7066 - val_mse: 0.1060\n",
            "Epoch 4/30\n",
            "57/57 [==============================] - 4s 63ms/step - loss: 0.8758 - accuracy: 0.6791 - mse: 0.1168 - val_loss: 0.8055 - val_accuracy: 0.6371 - val_mse: 0.1230\n",
            "Epoch 5/30\n",
            "57/57 [==============================] - 4s 62ms/step - loss: 0.8814 - accuracy: 0.6952 - mse: 0.1108 - val_loss: 0.7932 - val_accuracy: 0.6448 - val_mse: 0.1125\n",
            "Epoch 6/30\n",
            "57/57 [==============================] - 4s 65ms/step - loss: 0.7917 - accuracy: 0.6985 - mse: 0.1069 - val_loss: 0.6348 - val_accuracy: 0.7915 - val_mse: 0.0851\n",
            "Epoch 7/30\n",
            "57/57 [==============================] - 4s 66ms/step - loss: 0.7425 - accuracy: 0.7301 - mse: 0.0997 - val_loss: 0.6311 - val_accuracy: 0.7568 - val_mse: 0.0890\n",
            "Epoch 8/30\n",
            "57/57 [==============================] - 4s 65ms/step - loss: 0.7009 - accuracy: 0.7296 - mse: 0.0957 - val_loss: 0.7979 - val_accuracy: 0.6680 - val_mse: 0.1119\n",
            "Epoch 9/30\n",
            "57/57 [==============================] - 4s 63ms/step - loss: 0.6813 - accuracy: 0.7479 - mse: 0.0915 - val_loss: 0.4999 - val_accuracy: 0.8031 - val_mse: 0.0646\n",
            "Epoch 10/30\n",
            "57/57 [==============================] - 4s 62ms/step - loss: 0.6469 - accuracy: 0.7585 - mse: 0.0869 - val_loss: 0.5534 - val_accuracy: 0.7761 - val_mse: 0.0756\n",
            "Epoch 11/30\n",
            "57/57 [==============================] - 4s 62ms/step - loss: 0.6069 - accuracy: 0.7712 - mse: 0.0823 - val_loss: 0.5355 - val_accuracy: 0.8069 - val_mse: 0.0710\n",
            "Epoch 12/30\n",
            "57/57 [==============================] - 3s 61ms/step - loss: 0.5989 - accuracy: 0.7768 - mse: 0.0801 - val_loss: 0.5844 - val_accuracy: 0.8610 - val_mse: 0.0625\n",
            "Epoch 13/30\n",
            "57/57 [==============================] - 4s 63ms/step - loss: 0.5412 - accuracy: 0.7973 - mse: 0.0735 - val_loss: 0.4972 - val_accuracy: 0.8301 - val_mse: 0.0604\n",
            "Epoch 14/30\n",
            "57/57 [==============================] - 4s 63ms/step - loss: 0.5240 - accuracy: 0.8090 - mse: 0.0710 - val_loss: 0.4872 - val_accuracy: 0.8224 - val_mse: 0.0664\n",
            "Epoch 15/30\n",
            "57/57 [==============================] - 4s 63ms/step - loss: 0.4704 - accuracy: 0.8279 - mse: 0.0624 - val_loss: 0.4079 - val_accuracy: 0.8533 - val_mse: 0.0537\n",
            "Epoch 16/30\n",
            "57/57 [==============================] - 4s 63ms/step - loss: 0.4640 - accuracy: 0.8268 - mse: 0.0627 - val_loss: 0.3838 - val_accuracy: 0.8610 - val_mse: 0.0543\n",
            "Epoch 17/30\n",
            "57/57 [==============================] - 4s 63ms/step - loss: 0.4216 - accuracy: 0.8573 - mse: 0.0555 - val_loss: 0.3489 - val_accuracy: 0.8803 - val_mse: 0.0504\n",
            "Epoch 18/30\n",
            "57/57 [==============================] - 4s 62ms/step - loss: 0.4221 - accuracy: 0.8479 - mse: 0.0546 - val_loss: 0.6198 - val_accuracy: 0.7027 - val_mse: 0.0985\n",
            "Epoch 19/30\n",
            "57/57 [==============================] - 4s 62ms/step - loss: 0.3927 - accuracy: 0.8556 - mse: 0.0510 - val_loss: 0.3120 - val_accuracy: 0.9035 - val_mse: 0.0400\n",
            "Epoch 20/30\n",
            "57/57 [==============================] - 4s 62ms/step - loss: 0.3719 - accuracy: 0.8612 - mse: 0.0506 - val_loss: 0.4118 - val_accuracy: 0.8340 - val_mse: 0.0608\n",
            "Epoch 21/30\n",
            "57/57 [==============================] - 4s 62ms/step - loss: 0.3305 - accuracy: 0.8717 - mse: 0.0451 - val_loss: 0.3996 - val_accuracy: 0.8687 - val_mse: 0.0492\n",
            "Epoch 22/30\n",
            "57/57 [==============================] - 4s 62ms/step - loss: 0.3462 - accuracy: 0.8806 - mse: 0.0460 - val_loss: 0.2423 - val_accuracy: 0.9151 - val_mse: 0.0337\n",
            "Epoch 23/30\n",
            "57/57 [==============================] - 4s 62ms/step - loss: 0.2806 - accuracy: 0.9017 - mse: 0.0376 - val_loss: 0.4409 - val_accuracy: 0.8456 - val_mse: 0.0602\n",
            "Epoch 24/30\n",
            "57/57 [==============================] - 4s 63ms/step - loss: 0.3127 - accuracy: 0.8906 - mse: 0.0415 - val_loss: 0.2122 - val_accuracy: 0.9266 - val_mse: 0.0279\n",
            "Epoch 25/30\n",
            "57/57 [==============================] - 4s 64ms/step - loss: 0.2554 - accuracy: 0.9117 - mse: 0.0348 - val_loss: 0.1820 - val_accuracy: 0.9228 - val_mse: 0.0269\n",
            "Epoch 26/30\n",
            "57/57 [==============================] - 4s 63ms/step - loss: 0.2732 - accuracy: 0.9017 - mse: 0.0367 - val_loss: 0.1602 - val_accuracy: 0.9459 - val_mse: 0.0228\n",
            "Epoch 27/30\n",
            "57/57 [==============================] - 4s 63ms/step - loss: 0.2409 - accuracy: 0.9045 - mse: 0.0346 - val_loss: 0.1083 - val_accuracy: 0.9459 - val_mse: 0.0160\n",
            "Epoch 28/30\n",
            "57/57 [==============================] - 4s 63ms/step - loss: 0.2412 - accuracy: 0.9067 - mse: 0.0327 - val_loss: 0.3744 - val_accuracy: 0.8610 - val_mse: 0.0496\n",
            "Epoch 29/30\n",
            "57/57 [==============================] - 4s 63ms/step - loss: 0.2040 - accuracy: 0.9295 - mse: 0.0276 - val_loss: 0.1199 - val_accuracy: 0.9575 - val_mse: 0.0186\n",
            "Epoch 30/30\n",
            "57/57 [==============================] - 4s 62ms/step - loss: 0.1845 - accuracy: 0.9373 - mse: 0.0245 - val_loss: 0.1486 - val_accuracy: 0.9382 - val_mse: 0.0221\n"
          ],
          "name": "stdout"
        },
        {
          "output_type": "execute_result",
          "data": {
            "text/plain": [
              "<tensorflow.python.keras.callbacks.History at 0x7f1cf2c6acc0>"
            ]
          },
          "metadata": {
            "tags": []
          },
          "execution_count": 21
        }
      ]
    },
    {
      "cell_type": "code",
      "metadata": {
        "id": "sVWEkNk5LfJL",
        "colab": {
          "base_uri": "https://localhost:8080/",
          "height": 561
        },
        "outputId": "9288fb8f-babc-4d1f-c267-72ca39e59197"
      },
      "source": [
        "# print a summary of the model training \n",
        "model.summary()"
      ],
      "execution_count": null,
      "outputs": [
        {
          "output_type": "stream",
          "text": [
            "Model: \"sequential\"\n",
            "_________________________________________________________________\n",
            "Layer (type)                 Output Shape              Param #   \n",
            "=================================================================\n",
            "conv2d (Conv2D)              (None, 30, 30, 32)        896       \n",
            "_________________________________________________________________\n",
            "activation (Activation)      (None, 30, 30, 32)        0         \n",
            "_________________________________________________________________\n",
            "conv2d_1 (Conv2D)            (None, 28, 28, 32)        9248      \n",
            "_________________________________________________________________\n",
            "activation_1 (Activation)    (None, 28, 28, 32)        0         \n",
            "_________________________________________________________________\n",
            "max_pooling2d (MaxPooling2D) (None, 14, 14, 32)        0         \n",
            "_________________________________________________________________\n",
            "dropout (Dropout)            (None, 14, 14, 32)        0         \n",
            "_________________________________________________________________\n",
            "flatten (Flatten)            (None, 6272)              0         \n",
            "_________________________________________________________________\n",
            "dense (Dense)                (None, 512)               3211776   \n",
            "_________________________________________________________________\n",
            "activation_2 (Activation)    (None, 512)               0         \n",
            "_________________________________________________________________\n",
            "dropout_1 (Dropout)          (None, 512)               0         \n",
            "_________________________________________________________________\n",
            "dense_1 (Dense)              (None, 4)                 2052      \n",
            "_________________________________________________________________\n",
            "activation_3 (Activation)    (None, 4)                 0         \n",
            "=================================================================\n",
            "Total params: 3,223,972\n",
            "Trainable params: 3,223,972\n",
            "Non-trainable params: 0\n",
            "_________________________________________________________________\n"
          ],
          "name": "stdout"
        }
      ]
    },
    {
      "cell_type": "code",
      "metadata": {
        "id": "Z-lJ5pSpAzoQ",
        "colab": {
          "base_uri": "https://localhost:8080/",
          "height": 85
        },
        "outputId": "056731f5-799b-4ffc-c641-4e7a7b66b3b3"
      },
      "source": [
        "# save model and weights\n",
        "if not os.path.isdir(save_dir):\n",
        "    os.makedirs(save_dir)\n",
        "model_path = os.path.join(save_dir, model_name)\n",
        "model.save(model_path)\n",
        "print(f'Saved trained model at {model_path}')\n",
        "\n",
        "# score trained model\n",
        "scores = model.evaluate(X_test, y_test, verbose=1)\n",
        "print('Test loss:', scores[0])\n",
        "print('Test accuracy:', scores[1])\n",
        "\n",
        "# save model as json file\n",
        "model_json = model.to_json()\n",
        "with open(\"model.json\", \"w\") as json_file:\n",
        "  json_file.write(model_json)\n",
        "model.save_weights(\"model.h5\")"
      ],
      "execution_count": null,
      "outputs": [
        {
          "output_type": "stream",
          "text": [
            "Saved trained model at /content/saved_models/rocks_and_fossils.h5\n",
            "9/9 [==============================] - 0s 13ms/step - loss: 0.1486 - accuracy: 0.9382 - mse: 0.0221\n",
            "Test loss: 0.14863738417625427\n",
            "Test accuracy: 0.9382239580154419\n"
          ],
          "name": "stdout"
        }
      ]
    },
    {
      "cell_type": "markdown",
      "metadata": {
        "id": "HYcAmj-OPvW1"
      },
      "source": [
        "Sources:\n",
        "\n",
        "[Building a CNN (1)](https://towardsdatascience.com/building-a-convolutional-neural-network-cnn-in-keras-329fbbadc5f5)\n",
        "\n",
        "[Building a CNN (2)](https://towardsdatascience.com/build-your-own-convolution-neural-network-in-5-mins-4217c2cf964f)\n",
        "\n",
        "[Early Stopping](https://chrisalbon.com/deep_learning/keras/neural_network_early_stopping/)\n",
        "\n",
        "[Datagen](https://keras.io/examples/cifar10_cnn/)"
      ]
    }
  ]
}